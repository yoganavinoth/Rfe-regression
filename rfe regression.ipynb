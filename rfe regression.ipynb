{
 "cells": [
  {
   "cell_type": "code",
   "execution_count": 1,
   "metadata": {},
   "outputs": [],
   "source": [
    "import pandas as pd\n",
    "import numpy as np\n",
    "import time\n",
    "import pickle\n",
    "import matplotlib.pyplot as plt\n",
    "from sklearn.model_selection import train_test_split\n",
    "from sklearn.preprocessing import StandardScaler\n",
    "from sklearn.feature_selection import RFE\n",
    "from sklearn.ensemble import RandomForestRegressor\n",
    "from sklearn.tree import DecisionTreeRegressor\n",
    "from sklearn.svm import SVR\n",
    "from sklearn.feature_selection import SelectKBest\n",
    "from sklearn.linear_model import LinearRegression"
   ]
  },
  {
   "cell_type": "code",
   "execution_count": 2,
   "metadata": {},
   "outputs": [],
   "source": [
    "def rfefeature(indep_x,dep_y,n):\n",
    "    rfelist=[]\n",
    "    lin=LinearRegression()\n",
    "    RF=RandomForestRegressor(n_estimators = 10, random_state = 0)\n",
    "    DT=DecisionTreeRegressor(random_state = 0)\n",
    "    svc_model =SVR(kernel = 'linear')\n",
    "    \n",
    "    rfemodellist=[lin,RF,DT,svc_model]\n",
    "    \n",
    "    for i in rfemodellist:\n",
    "        log_rfe = RFE(estimator=i, n_features_to_select=n)\n",
    "        log_fit = log_rfe.fit(indep_x,dep_y)\n",
    "        log_rfe_feature=log_fit.transform(indep_x)\n",
    "        rfelist.append(log_rfe_feature)\n",
    "    return rfelist"
   ]
  },
  {
   "cell_type": "code",
   "execution_count": 3,
   "metadata": {},
   "outputs": [],
   "source": [
    "def split_scalar(indep_x,dep_y):\n",
    "    x_train,x_test,y_train,y_test=train_test_split(indep_x,dep_y,test_size=0.25,random_state=0)\n",
    "    sc=StandardScaler()\n",
    "    x_train=sc.fit_transform(x_train)\n",
    "    x_test=sc.transform(x_test)\n",
    "    return x_train,x_test,y_train,y_test\n",
    "\n",
    "def R2_prediction(regressor,x_test,y_test):\n",
    "    y_pred=regressor.predict(x_test)\n",
    "    from sklearn.metrics import r2_score\n",
    "    R2=r2_score(y_test,y_pred)\n",
    "    return R2\n",
    "\n",
    "def linear(x_train,y_train,x_test):\n",
    "    from sklearn.linear_model import LinearRegression\n",
    "    regressor=LinearRegression()\n",
    "    regressor.fit(x_train,y_train)\n",
    "    R2=R2_prediction(regressor,x_test,y_test)\n",
    "    return R2\n",
    "\n",
    "def svm_linear(x_train,y_train,x_test):\n",
    "    regressor=SVR(kernel=\"linear\")\n",
    "    regressor.fit(x_train,y_train)\n",
    "    R2=R2_prediction(regressor,x_test,y_test)\n",
    "    return R2\n",
    "\n",
    "def svm_NL(x_train,y_train,x_test):\n",
    "    regressor=SVR(kernel=\"rbf\")\n",
    "    regressor.fit(x_train,y_train)\n",
    "    R2=R2_prediction(regressor,x_test,y_test)\n",
    "    return R2\n",
    "\n",
    "def DecisionTree(x_train,y_train,x_test):\n",
    "    from sklearn.tree import DecisionTreeRegressor\n",
    "    regressor=DecisionTreeRegressor(random_state=0)\n",
    "    regressor.fit(x_train,y_train)\n",
    "    R2=R2_prediction(regressor,x_test,y_test)\n",
    "    return R2\n",
    "\n",
    "def RandomForest(x_train,y_train,x_test):\n",
    "    from sklearn.ensemble import RandomForestRegressor\n",
    "    regressor=RandomForestRegressor(n_estimators=10,random_state=0)\n",
    "    regressor.fit(x_train,y_train)\n",
    "    R2=R2_prediction(regressor,x_test,y_test)\n",
    "    return R2"
   ]
  },
  {
   "cell_type": "code",
   "execution_count": 4,
   "metadata": {},
   "outputs": [],
   "source": [
    "def rfe_Regression(acclin,accsvm1,accdes,accrf):\n",
    "    rfedataframe=pd.DataFrame(index=[\"Linear\",\"SVC\",\"Random\",\"DecisionTree\"],columns=[\"linear\",\"SVM1\",\"Decision\",\"Random\"])\n",
    "    for number,index in enumerate(rfedataframe.index):\n",
    "        rfedataframe[\"linear\"][index]=acclin[number]\n",
    "        rfedataframe[\"SVM1\"][index]=accsvm1[number]\n",
    "        rfedataframe[\"Decision\"][index]=accdes[number]\n",
    "        rfedataframe[\"Random\"][index]=accrf[number]\n",
    "    return rfedataframe   "
   ]
  },
  {
   "cell_type": "code",
   "execution_count": 5,
   "metadata": {},
   "outputs": [],
   "source": [
    "dataset1=pd.read_csv(\"prep.csv\",index_col=None)\n",
    "df2=dataset1\n",
    "df=pd.get_dummies(df2,drop_first=True)\n",
    "indep_x=df.drop(\"classification_yes\",axis=1)\n",
    "dep_y=df[\"classification_yes\"]"
   ]
  },
  {
   "cell_type": "code",
   "execution_count": 6,
   "metadata": {},
   "outputs": [],
   "source": [
    "rfelist=rfefeature(indep_x,dep_y,2)\n",
    "acclin=[]\n",
    "accsvm1=[]\n",
    "accsvmn1=[]\n",
    "accdes=[]\n",
    "accrf=[]"
   ]
  },
  {
   "cell_type": "code",
   "execution_count": 12,
   "metadata": {},
   "outputs": [],
   "source": [
    "for i in rfelist:\n",
    "    x_train,x_test,y_train,y_test=split_scalar(i,dep_y)\n",
    "\n",
    "    r2_lin=linear(x_train,y_train,x_test)\n",
    "    acclin.append(r2_lin)\n",
    "\n",
    "    r2_sl=svm_linear(x_train,y_train,x_test)\n",
    "    accsvm1.append(r2_sl)\n",
    "    \n",
    "    r2_d=DecisionTree(x_train,y_train,x_test)\n",
    "    accdes.append(r2_d)\n",
    "\n",
    "    r2_r=RandomForest(x_train,y_train,x_test)\n",
    "    accrf.append(r2_r)\n",
    "\n",
    "    result=rfe_Regression(acclin,accsvm1,accdes,accrf)"
   ]
  },
  {
   "cell_type": "code",
   "execution_count": 13,
   "metadata": {},
   "outputs": [
    {
     "data": {
      "text/html": [
       "<div>\n",
       "<style scoped>\n",
       "    .dataframe tbody tr th:only-of-type {\n",
       "        vertical-align: middle;\n",
       "    }\n",
       "\n",
       "    .dataframe tbody tr th {\n",
       "        vertical-align: top;\n",
       "    }\n",
       "\n",
       "    .dataframe thead th {\n",
       "        text-align: right;\n",
       "    }\n",
       "</style>\n",
       "<table border=\"1\" class=\"dataframe\">\n",
       "  <thead>\n",
       "    <tr style=\"text-align: right;\">\n",
       "      <th></th>\n",
       "      <th>linear</th>\n",
       "      <th>SVM1</th>\n",
       "      <th>Decision</th>\n",
       "      <th>Random</th>\n",
       "    </tr>\n",
       "  </thead>\n",
       "  <tbody>\n",
       "    <tr>\n",
       "      <th>Linear</th>\n",
       "      <td>0.154714</td>\n",
       "      <td>-0.292446</td>\n",
       "      <td>0.154714</td>\n",
       "      <td>0.154309</td>\n",
       "    </tr>\n",
       "    <tr>\n",
       "      <th>SVC</th>\n",
       "      <td>0.154714</td>\n",
       "      <td>-0.292446</td>\n",
       "      <td>0.154714</td>\n",
       "      <td>0.154309</td>\n",
       "    </tr>\n",
       "    <tr>\n",
       "      <th>Random</th>\n",
       "      <td>0.154714</td>\n",
       "      <td>-0.292446</td>\n",
       "      <td>0.154714</td>\n",
       "      <td>0.154309</td>\n",
       "    </tr>\n",
       "    <tr>\n",
       "      <th>DecisionTree</th>\n",
       "      <td>0.154714</td>\n",
       "      <td>-0.292446</td>\n",
       "      <td>0.154714</td>\n",
       "      <td>0.154309</td>\n",
       "    </tr>\n",
       "  </tbody>\n",
       "</table>\n",
       "</div>"
      ],
      "text/plain": [
       "                linear      SVM1  Decision    Random\n",
       "Linear        0.154714 -0.292446  0.154714  0.154309\n",
       "SVC           0.154714 -0.292446  0.154714  0.154309\n",
       "Random        0.154714 -0.292446  0.154714  0.154309\n",
       "DecisionTree  0.154714 -0.292446  0.154714  0.154309"
      ]
     },
     "execution_count": 13,
     "metadata": {},
     "output_type": "execute_result"
    }
   ],
   "source": [
    "result"
   ]
  },
  {
   "cell_type": "code",
   "execution_count": null,
   "metadata": {},
   "outputs": [],
   "source": []
  }
 ],
 "metadata": {
  "kernelspec": {
   "display_name": "Python 3",
   "language": "python",
   "name": "python3"
  },
  "language_info": {
   "codemirror_mode": {
    "name": "ipython",
    "version": 3
   },
   "file_extension": ".py",
   "mimetype": "text/x-python",
   "name": "python",
   "nbconvert_exporter": "python",
   "pygments_lexer": "ipython3",
   "version": "3.7.4"
  }
 },
 "nbformat": 4,
 "nbformat_minor": 2
}
